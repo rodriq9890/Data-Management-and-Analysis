{
 "cells": [
  {
   "cell_type": "code",
   "execution_count": 143,
   "metadata": {},
   "outputs": [],
   "source": [
    "import json\n",
    "import pandas as pd\n",
    "import requests\n",
    "r1 = requests.get('http://linserv1.cims.nyu.edu:10000/films?_page=1')\n",
    "r2 = requests.get('http://linserv1.cims.nyu.edu:10000/films?_page=2')\n",
    "r3 = requests.get('http://linserv1.cims.nyu.edu:10000/films?_page=3')"
   ]
  },
  {
   "cell_type": "code",
   "execution_count": 144,
   "metadata": {},
   "outputs": [],
   "source": [
    "d1 = r1.json()\n",
    "d2 = r2.json()\n",
    "d3 = r3.json()"
   ]
  },
  {
   "cell_type": "markdown",
   "metadata": {},
   "source": [
    "To produce the dataframe specifiec in the assignment page, we'll need to use the director, rt_score, and a count of how many times the director came up in the entire dataset's director key"
   ]
  },
  {
   "cell_type": "markdown",
   "metadata": {},
   "source": [
    "Also, upon changing the page # in the URL, we see more movies, this can be the fact that pages cannot handle all the movies at once perhaps, by design probably, the website makers wanted only x movies to be shown at a time and the rest to be on other pages"
   ]
  },
  {
   "cell_type": "code",
   "execution_count": 145,
   "metadata": {},
   "outputs": [],
   "source": [
    "movies = []\n",
    "for dic in [d1, d2, d3]:\n",
    "    for item in dic:\n",
    "        movies.append(item)"
   ]
  },
  {
   "cell_type": "markdown",
   "metadata": {},
   "source": [
    "Getting Unique Directors and the amount of times they appear"
   ]
  },
  {
   "cell_type": "code",
   "execution_count": 146,
   "metadata": {},
   "outputs": [],
   "source": [
    "directors = []\n",
    "for movie in movies:\n",
    "    directors.append(movie.get('director'))\n",
    "def CountFrequency(my_list): \n",
    "    director_freq = {} \n",
    "    for director in directors: \n",
    "        if (director in director_freq): \n",
    "            director_freq[director] += 1\n",
    "        else: \n",
    "            director_freq[director] = 1\n",
    "    return director_freq\n",
    "director_freq = CountFrequency(directors)"
   ]
  },
  {
   "cell_type": "code",
   "execution_count": 170,
   "metadata": {},
   "outputs": [],
   "source": [
    "director_scores = {director:0 for director in list(set(directors))}\n",
    "for movie in movies:\n",
    "    score = float(movie.get('rt_score'))\n",
    "    director = movie.get('director')\n",
    "    director_scores[director] += score"
   ]
  },
  {
   "cell_type": "code",
   "execution_count": 171,
   "metadata": {},
   "outputs": [
    {
     "data": {
      "text/plain": [
       "{'Hayao Miyazaki': 9,\n",
       " 'Isao Takahata': 5,\n",
       " 'Yoshifumi Kondō': 1,\n",
       " 'Hiroyuki Morita': 1,\n",
       " 'Gorō Miyazaki': 2,\n",
       " 'Hiromasa Yonebayashi': 2,\n",
       " 'Michaël Dudok de Wit': 1}"
      ]
     },
     "execution_count": 171,
     "metadata": {},
     "output_type": "execute_result"
    }
   ],
   "source": [
    "director_freq"
   ]
  },
  {
   "cell_type": "code",
   "execution_count": 202,
   "metadata": {},
   "outputs": [],
   "source": [
    "director_avg_score = {}\n",
    "for director in list(director_scores.keys()):\n",
    "    director_avg_score[director] = director_scores.get(director)/director_freq.get(director)"
   ]
  },
  {
   "cell_type": "code",
   "execution_count": 203,
   "metadata": {},
   "outputs": [
    {
     "data": {
      "text/plain": [
       "{'Hiroyuki Morita': 89.0,\n",
       " 'Gorō Miyazaki': 62.0,\n",
       " 'Michaël Dudok de Wit': 93.0,\n",
       " 'Hiromasa Yonebayashi': 93.5,\n",
       " 'Isao Takahata': 90.0,\n",
       " 'Hayao Miyazaki': 92.77777777777777,\n",
       " 'Yoshifumi Kondō': 91.0}"
      ]
     },
     "execution_count": 203,
     "metadata": {},
     "output_type": "execute_result"
    }
   ],
   "source": [
    "director_avg_score"
   ]
  },
  {
   "cell_type": "code",
   "execution_count": 204,
   "metadata": {},
   "outputs": [],
   "source": [
    "df = pd.DataFrame(index = list(set(directors)))"
   ]
  },
  {
   "cell_type": "code",
   "execution_count": 205,
   "metadata": {},
   "outputs": [],
   "source": [
    "df['avg_rt_score'] = [director_avg_score.get(director) for director in list(set(directors))]\n",
    "df['count'] = [director_freq.get(director) for director in list(set(directors))]"
   ]
  },
  {
   "cell_type": "code",
   "execution_count": 208,
   "metadata": {},
   "outputs": [],
   "source": [
    "df = df.sort_values(by = 'avg_rt_score', ascending=False)"
   ]
  },
  {
   "cell_type": "code",
   "execution_count": 209,
   "metadata": {},
   "outputs": [
    {
     "data": {
      "text/html": [
       "<div>\n",
       "<style scoped>\n",
       "    .dataframe tbody tr th:only-of-type {\n",
       "        vertical-align: middle;\n",
       "    }\n",
       "\n",
       "    .dataframe tbody tr th {\n",
       "        vertical-align: top;\n",
       "    }\n",
       "\n",
       "    .dataframe thead th {\n",
       "        text-align: right;\n",
       "    }\n",
       "</style>\n",
       "<table border=\"1\" class=\"dataframe\">\n",
       "  <thead>\n",
       "    <tr style=\"text-align: right;\">\n",
       "      <th></th>\n",
       "      <th>avg_rt_score</th>\n",
       "      <th>count</th>\n",
       "    </tr>\n",
       "  </thead>\n",
       "  <tbody>\n",
       "    <tr>\n",
       "      <th>Hiromasa Yonebayashi</th>\n",
       "      <td>93.500000</td>\n",
       "      <td>2</td>\n",
       "    </tr>\n",
       "    <tr>\n",
       "      <th>Michaël Dudok de Wit</th>\n",
       "      <td>93.000000</td>\n",
       "      <td>1</td>\n",
       "    </tr>\n",
       "    <tr>\n",
       "      <th>Hayao Miyazaki</th>\n",
       "      <td>92.777778</td>\n",
       "      <td>9</td>\n",
       "    </tr>\n",
       "    <tr>\n",
       "      <th>Yoshifumi Kondō</th>\n",
       "      <td>91.000000</td>\n",
       "      <td>1</td>\n",
       "    </tr>\n",
       "    <tr>\n",
       "      <th>Isao Takahata</th>\n",
       "      <td>90.000000</td>\n",
       "      <td>5</td>\n",
       "    </tr>\n",
       "    <tr>\n",
       "      <th>Hiroyuki Morita</th>\n",
       "      <td>89.000000</td>\n",
       "      <td>1</td>\n",
       "    </tr>\n",
       "    <tr>\n",
       "      <th>Gorō Miyazaki</th>\n",
       "      <td>62.000000</td>\n",
       "      <td>2</td>\n",
       "    </tr>\n",
       "  </tbody>\n",
       "</table>\n",
       "</div>"
      ],
      "text/plain": [
       "                      avg_rt_score  count\n",
       "Hiromasa Yonebayashi     93.500000      2\n",
       "Michaël Dudok de Wit     93.000000      1\n",
       "Hayao Miyazaki           92.777778      9\n",
       "Yoshifumi Kondō          91.000000      1\n",
       "Isao Takahata            90.000000      5\n",
       "Hiroyuki Morita          89.000000      1\n",
       "Gorō Miyazaki            62.000000      2"
      ]
     },
     "execution_count": 209,
     "metadata": {},
     "output_type": "execute_result"
    }
   ],
   "source": [
    "df"
   ]
  }
 ],
 "metadata": {
  "kernelspec": {
   "display_name": "Python 3",
   "language": "python",
   "name": "python3"
  },
  "language_info": {
   "codemirror_mode": {
    "name": "ipython",
    "version": 3
   },
   "file_extension": ".py",
   "mimetype": "text/x-python",
   "name": "python",
   "nbconvert_exporter": "python",
   "pygments_lexer": "ipython3",
   "version": "3.8.3"
  }
 },
 "nbformat": 4,
 "nbformat_minor": 4
}
