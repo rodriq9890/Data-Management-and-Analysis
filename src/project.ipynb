{
 "cells": [
  {
   "cell_type": "code",
   "execution_count": 118,
   "metadata": {},
   "outputs": [],
   "source": [
    "import numpy as np\n",
    "import matplotlib.pyplot as plt\n",
    "import pandas as pd\n",
    "import statistics as s\n",
    "import seaborn as sns\n",
    "df = pd.read_csv('../data/raw/top250-00-19.csv')"
   ]
  },
  {
   "cell_type": "markdown",
   "metadata": {},
   "source": [
    "## About the Data\n",
    "\n",
    "1. Name / Title: Top 250 Football transfers from 2000 to 2018\n",
    "2. Link to Data: https://www.kaggle.com/vardan95ghazaryan/top-250-football-transfers-from-2000-to-2018\n",
    "3. Source / Origin: \n",
    "\t* Author or Creator: Vardan\n",
    "\t* Publication Date: 3 Years Ago (August 2018)\n",
    "\t* Publisher: Kaggle\n",
    "\t* Version or Data Accessed: Version 1\n",
    "4. License: Unspecified License\n",
    "5. Can You Use this Data Set for Your Intended Use Case? Yes, lot's of interesting data can be seen here!"
   ]
  },
  {
   "cell_type": "markdown",
   "metadata": {},
   "source": [
    "## Format and Samples"
   ]
  },
  {
   "cell_type": "code",
   "execution_count": 119,
   "metadata": {},
   "outputs": [
    {
     "data": {
      "text/html": [
       "<div>\n",
       "<style scoped>\n",
       "    .dataframe tbody tr th:only-of-type {\n",
       "        vertical-align: middle;\n",
       "    }\n",
       "\n",
       "    .dataframe tbody tr th {\n",
       "        vertical-align: top;\n",
       "    }\n",
       "\n",
       "    .dataframe thead th {\n",
       "        text-align: right;\n",
       "    }\n",
       "</style>\n",
       "<table border=\"1\" class=\"dataframe\">\n",
       "  <thead>\n",
       "    <tr style=\"text-align: right;\">\n",
       "      <th></th>\n",
       "      <th>Name</th>\n",
       "      <th>Position</th>\n",
       "      <th>Age</th>\n",
       "      <th>Team_from</th>\n",
       "      <th>League_from</th>\n",
       "      <th>Team_to</th>\n",
       "      <th>League_to</th>\n",
       "      <th>Season</th>\n",
       "      <th>Market_value</th>\n",
       "      <th>Transfer_fee</th>\n",
       "    </tr>\n",
       "  </thead>\n",
       "  <tbody>\n",
       "    <tr>\n",
       "      <th>3593</th>\n",
       "      <td>Tin Jedvaj</td>\n",
       "      <td>Centre-Back</td>\n",
       "      <td>19</td>\n",
       "      <td>AS Roma</td>\n",
       "      <td>Serie A</td>\n",
       "      <td>Bay. Leverkusen</td>\n",
       "      <td>1.Bundesliga</td>\n",
       "      <td>2014-2015</td>\n",
       "      <td>6500000.0</td>\n",
       "      <td>7000000</td>\n",
       "    </tr>\n",
       "    <tr>\n",
       "      <th>3955</th>\n",
       "      <td>Gaël Kakuta</td>\n",
       "      <td>Left Winger</td>\n",
       "      <td>24</td>\n",
       "      <td>Chelsea</td>\n",
       "      <td>Premier League</td>\n",
       "      <td>Sevilla FC</td>\n",
       "      <td>LaLiga</td>\n",
       "      <td>2015-2016</td>\n",
       "      <td>3500000.0</td>\n",
       "      <td>6000000</td>\n",
       "    </tr>\n",
       "    <tr>\n",
       "      <th>3139</th>\n",
       "      <td>Junior Fernandes</td>\n",
       "      <td>Left Winger</td>\n",
       "      <td>24</td>\n",
       "      <td>U. de Chile</td>\n",
       "      <td>Primera División</td>\n",
       "      <td>Bay. Leverkusen</td>\n",
       "      <td>1.Bundesliga</td>\n",
       "      <td>2012-2013</td>\n",
       "      <td>800000.0</td>\n",
       "      <td>4700000</td>\n",
       "    </tr>\n",
       "    <tr>\n",
       "      <th>2775</th>\n",
       "      <td>Marco Borriello</td>\n",
       "      <td>Centre-Forward</td>\n",
       "      <td>29</td>\n",
       "      <td>AC Milan</td>\n",
       "      <td>Serie A</td>\n",
       "      <td>AS Roma</td>\n",
       "      <td>Serie A</td>\n",
       "      <td>2011-2012</td>\n",
       "      <td>13000000.0</td>\n",
       "      <td>10000000</td>\n",
       "    </tr>\n",
       "    <tr>\n",
       "      <th>2397</th>\n",
       "      <td>Maicosuel</td>\n",
       "      <td>Left Winger</td>\n",
       "      <td>23</td>\n",
       "      <td>Desp. Brasil</td>\n",
       "      <td>Brazil</td>\n",
       "      <td>TSG Hoffenheim</td>\n",
       "      <td>1.Bundesliga</td>\n",
       "      <td>2009-2010</td>\n",
       "      <td>2000000.0</td>\n",
       "      <td>4500000</td>\n",
       "    </tr>\n",
       "  </tbody>\n",
       "</table>\n",
       "</div>"
      ],
      "text/plain": [
       "                  Name        Position  Age     Team_from       League_from  \\\n",
       "3593        Tin Jedvaj     Centre-Back   19       AS Roma           Serie A   \n",
       "3955       Gaël Kakuta     Left Winger   24       Chelsea    Premier League   \n",
       "3139  Junior Fernandes     Left Winger   24   U. de Chile  Primera División   \n",
       "2775   Marco Borriello  Centre-Forward   29      AC Milan           Serie A   \n",
       "2397         Maicosuel     Left Winger   23  Desp. Brasil            Brazil   \n",
       "\n",
       "              Team_to     League_to     Season  Market_value  Transfer_fee  \n",
       "3593  Bay. Leverkusen  1.Bundesliga  2014-2015     6500000.0       7000000  \n",
       "3955       Sevilla FC        LaLiga  2015-2016     3500000.0       6000000  \n",
       "3139  Bay. Leverkusen  1.Bundesliga  2012-2013      800000.0       4700000  \n",
       "2775          AS Roma       Serie A  2011-2012    13000000.0      10000000  \n",
       "2397   TSG Hoffenheim  1.Bundesliga  2009-2010     2000000.0       4500000  "
      ]
     },
     "execution_count": 119,
     "metadata": {},
     "output_type": "execute_result"
    }
   ],
   "source": [
    "df.sample(5)"
   ]
  },
  {
   "cell_type": "markdown",
   "metadata": {},
   "source": [
    "### Overview\n",
    "\n",
    "Format: CSV File\n",
    "\n",
    "Size: 531 Kbs\n",
    "\n",
    "Number of Records: 4700 Rows\n",
    "\n",
    "### Fields or Column Headers"
   ]
  },
  {
   "cell_type": "code",
   "execution_count": 120,
   "metadata": {},
   "outputs": [
    {
     "data": {
      "text/plain": [
       "Name             object\n",
       "Position         object\n",
       "Age               int64\n",
       "Team_from        object\n",
       "League_from      object\n",
       "Team_to          object\n",
       "League_to        object\n",
       "Season           object\n",
       "Market_value    float64\n",
       "Transfer_fee      int64\n",
       "dtype: object"
      ]
     },
     "execution_count": 120,
     "metadata": {},
     "output_type": "execute_result"
    }
   ],
   "source": [
    "df.dtypes"
   ]
  },
  {
   "cell_type": "markdown",
   "metadata": {},
   "source": [
    "### Information by League"
   ]
  },
  {
   "cell_type": "code",
   "execution_count": 121,
   "metadata": {},
   "outputs": [
    {
     "name": "stdout",
     "output_type": "stream",
     "text": [
      "#1 LaLiga $ 12724495.238095239\n",
      "#2 Premier League $ 11700159.23566879\n",
      "#3 Segunda División - Segunda Fase $ 11000000.0\n",
      "#4 Serie A $ 10196508.795669824\n",
      "#5 Super League $ 9756393.44262295\n"
     ]
    }
   ],
   "source": [
    "for i in range(5):\n",
    "    league_mean = df.groupby(by=['League_to']).mean()['Transfer_fee'].sort_values(ascending=False)\n",
    "    print('#' + str(i+1),league_mean.index[i],'$', league_mean.values[i])"
   ]
  },
  {
   "cell_type": "markdown",
   "metadata": {},
   "source": [
    "* Surprisingly, the 2nd division of Spanish Football is the 3rd largest spender of all the leagues.\n",
    "* Chinese Super League is also up there among the leagues that spent the most money from 2000-2018, even though the average person couldn't tell you a team from that league"
   ]
  },
  {
   "cell_type": "markdown",
   "metadata": {},
   "source": [
    "### Correlations? (Age or Team_from to Transfer_fee?)"
   ]
  },
  {
   "cell_type": "code",
   "execution_count": 122,
   "metadata": {},
   "outputs": [
    {
     "data": {
      "text/html": [
       "<div>\n",
       "<style scoped>\n",
       "    .dataframe tbody tr th:only-of-type {\n",
       "        vertical-align: middle;\n",
       "    }\n",
       "\n",
       "    .dataframe tbody tr th {\n",
       "        vertical-align: top;\n",
       "    }\n",
       "\n",
       "    .dataframe thead th {\n",
       "        text-align: right;\n",
       "    }\n",
       "</style>\n",
       "<table border=\"1\" class=\"dataframe\">\n",
       "  <thead>\n",
       "    <tr style=\"text-align: right;\">\n",
       "      <th></th>\n",
       "      <th>Age</th>\n",
       "      <th>Market_value</th>\n",
       "      <th>Transfer_fee</th>\n",
       "    </tr>\n",
       "  </thead>\n",
       "  <tbody>\n",
       "    <tr>\n",
       "      <th>Age</th>\n",
       "      <td>1.000000</td>\n",
       "      <td>0.142739</td>\n",
       "      <td>-0.001803</td>\n",
       "    </tr>\n",
       "    <tr>\n",
       "      <th>Market_value</th>\n",
       "      <td>0.142739</td>\n",
       "      <td>1.000000</td>\n",
       "      <td>0.830573</td>\n",
       "    </tr>\n",
       "    <tr>\n",
       "      <th>Transfer_fee</th>\n",
       "      <td>-0.001803</td>\n",
       "      <td>0.830573</td>\n",
       "      <td>1.000000</td>\n",
       "    </tr>\n",
       "  </tbody>\n",
       "</table>\n",
       "</div>"
      ],
      "text/plain": [
       "                   Age  Market_value  Transfer_fee\n",
       "Age           1.000000      0.142739     -0.001803\n",
       "Market_value  0.142739      1.000000      0.830573\n",
       "Transfer_fee -0.001803      0.830573      1.000000"
      ]
     },
     "execution_count": 122,
     "metadata": {},
     "output_type": "execute_result"
    }
   ],
   "source": [
    "df.corr()"
   ]
  },
  {
   "cell_type": "markdown",
   "metadata": {},
   "source": [
    "There is obviously a great correlation between Transfer Fees and Market Values, but I'd expect a greater correlation between Age and Market Value, with there being 0 correlation. This can be seen below, the scatterplot is unimodal."
   ]
  },
  {
   "cell_type": "code",
   "execution_count": 123,
   "metadata": {},
   "outputs": [
    {
     "data": {
      "image/png": "[encoded data removed]",
      "text/plain": [
       "<Figure size 432x288 with 1 Axes>"
      ]
     },
     "metadata": {},
     "output_type": "display_data"
    },
    {
     "name": "stdout",
     "output_type": "stream",
     "text": [
      "Age Median: 24.0\n"
     ]
    }
   ],
   "source": [
    "df.plot(kind='scatter', x='Age', y='Market_value',color = 'blue', alpha=.6)\n",
    "plt.xlabel('Age')              \n",
    "plt.ylabel('Market Value')\n",
    "plt.title('Age v. Market Value Scatter Plot')  \n",
    "plt.show()\n",
    "print('Age Median:',df['Age'].median())"
   ]
  },
  {
   "cell_type": "markdown",
   "metadata": {},
   "source": [
    "Clearly a **unimodal** distribution around the median of 24. \n",
    "\n",
    "There are **4 particular outliers** I'd like to look at and I am pretty sure who these players are. Let's find these outliers by sorting the Market values "
   ]
  },
  {
   "cell_type": "code",
   "execution_count": 124,
   "metadata": {},
   "outputs": [
    {
     "data": {
      "text/html": [
       "<div>\n",
       "<style scoped>\n",
       "    .dataframe tbody tr th:only-of-type {\n",
       "        vertical-align: middle;\n",
       "    }\n",
       "\n",
       "    .dataframe tbody tr th {\n",
       "        vertical-align: top;\n",
       "    }\n",
       "\n",
       "    .dataframe thead th {\n",
       "        text-align: right;\n",
       "    }\n",
       "</style>\n",
       "<table border=\"1\" class=\"dataframe\">\n",
       "  <thead>\n",
       "    <tr style=\"text-align: right;\">\n",
       "      <th></th>\n",
       "      <th>Name</th>\n",
       "      <th>Position</th>\n",
       "      <th>Age</th>\n",
       "      <th>Team_from</th>\n",
       "      <th>League_from</th>\n",
       "      <th>Team_to</th>\n",
       "      <th>League_to</th>\n",
       "      <th>Season</th>\n",
       "      <th>Market_value</th>\n",
       "      <th>Transfer_fee</th>\n",
       "    </tr>\n",
       "  </thead>\n",
       "  <tbody>\n",
       "    <tr>\n",
       "      <th>4455</th>\n",
       "      <td>Kylian Mbappé</td>\n",
       "      <td>Right Winger</td>\n",
       "      <td>19</td>\n",
       "      <td>Monaco</td>\n",
       "      <td>Ligue 1</td>\n",
       "      <td>Paris SG</td>\n",
       "      <td>Ligue 1</td>\n",
       "      <td>2018-2019</td>\n",
       "      <td>120000000.0</td>\n",
       "      <td>135000000</td>\n",
       "    </tr>\n",
       "    <tr>\n",
       "      <th>4456</th>\n",
       "      <td>Cristiano Ronaldo</td>\n",
       "      <td>Centre-Forward</td>\n",
       "      <td>33</td>\n",
       "      <td>Real Madrid</td>\n",
       "      <td>LaLiga</td>\n",
       "      <td>Juventus</td>\n",
       "      <td>Serie A</td>\n",
       "      <td>2018-2019</td>\n",
       "      <td>100000000.0</td>\n",
       "      <td>117000000</td>\n",
       "    </tr>\n",
       "    <tr>\n",
       "      <th>4211</th>\n",
       "      <td>Neymar</td>\n",
       "      <td>Left Winger</td>\n",
       "      <td>25</td>\n",
       "      <td>FC Barcelona</td>\n",
       "      <td>LaLiga</td>\n",
       "      <td>Paris SG</td>\n",
       "      <td>Ligue 1</td>\n",
       "      <td>2017-2018</td>\n",
       "      <td>100000000.0</td>\n",
       "      <td>222000000</td>\n",
       "    </tr>\n",
       "    <tr>\n",
       "      <th>4212</th>\n",
       "      <td>Philippe Coutinho</td>\n",
       "      <td>Attacking Midfield</td>\n",
       "      <td>25</td>\n",
       "      <td>Liverpool</td>\n",
       "      <td>Premier League</td>\n",
       "      <td>FC Barcelona</td>\n",
       "      <td>LaLiga</td>\n",
       "      <td>2017-2018</td>\n",
       "      <td>90000000.0</td>\n",
       "      <td>125000000</td>\n",
       "    </tr>\n",
       "  </tbody>\n",
       "</table>\n",
       "</div>"
      ],
      "text/plain": [
       "                   Name            Position  Age     Team_from  \\\n",
       "4455      Kylian Mbappé        Right Winger   19        Monaco   \n",
       "4456  Cristiano Ronaldo      Centre-Forward   33   Real Madrid   \n",
       "4211             Neymar         Left Winger   25  FC Barcelona   \n",
       "4212  Philippe Coutinho  Attacking Midfield   25     Liverpool   \n",
       "\n",
       "         League_from       Team_to League_to     Season  Market_value  \\\n",
       "4455         Ligue 1      Paris SG   Ligue 1  2018-2019   120000000.0   \n",
       "4456          LaLiga      Juventus   Serie A  2018-2019   100000000.0   \n",
       "4211          LaLiga      Paris SG   Ligue 1  2017-2018   100000000.0   \n",
       "4212  Premier League  FC Barcelona    LaLiga  2017-2018    90000000.0   \n",
       "\n",
       "      Transfer_fee  \n",
       "4455     135000000  \n",
       "4456     117000000  \n",
       "4211     222000000  \n",
       "4212     125000000  "
      ]
     },
     "execution_count": 124,
     "metadata": {},
     "output_type": "execute_result"
    }
   ],
   "source": [
    "df.sort_values(by='Market_value', ascending=False).head(4)"
   ]
  },
  {
   "cell_type": "code",
   "execution_count": 125,
   "metadata": {},
   "outputs": [
    {
     "data": {
      "image/png": "[encoded data removed]",
      "text/plain": [
       "<Figure size 432x288 with 1 Axes>"
      ]
     },
     "metadata": {},
     "output_type": "display_data"
    },
    {
     "data": {
      "text/html": [
       "<div>\n",
       "<style scoped>\n",
       "    .dataframe tbody tr th:only-of-type {\n",
       "        vertical-align: middle;\n",
       "    }\n",
       "\n",
       "    .dataframe tbody tr th {\n",
       "        vertical-align: top;\n",
       "    }\n",
       "\n",
       "    .dataframe thead th {\n",
       "        text-align: right;\n",
       "    }\n",
       "</style>\n",
       "<table border=\"1\" class=\"dataframe\">\n",
       "  <thead>\n",
       "    <tr style=\"text-align: right;\">\n",
       "      <th></th>\n",
       "      <th>Name</th>\n",
       "      <th>Position</th>\n",
       "      <th>Age</th>\n",
       "      <th>Team_from</th>\n",
       "      <th>League_from</th>\n",
       "      <th>Team_to</th>\n",
       "      <th>League_to</th>\n",
       "      <th>Season</th>\n",
       "      <th>Market_value</th>\n",
       "      <th>Transfer_fee</th>\n",
       "    </tr>\n",
       "  </thead>\n",
       "  <tbody>\n",
       "    <tr>\n",
       "      <th>4211</th>\n",
       "      <td>Neymar</td>\n",
       "      <td>Left Winger</td>\n",
       "      <td>25</td>\n",
       "      <td>FC Barcelona</td>\n",
       "      <td>LaLiga</td>\n",
       "      <td>Paris SG</td>\n",
       "      <td>Ligue 1</td>\n",
       "      <td>2017-2018</td>\n",
       "      <td>100000000.0</td>\n",
       "      <td>222000000</td>\n",
       "    </tr>\n",
       "    <tr>\n",
       "      <th>4455</th>\n",
       "      <td>Kylian Mbappé</td>\n",
       "      <td>Right Winger</td>\n",
       "      <td>19</td>\n",
       "      <td>Monaco</td>\n",
       "      <td>Ligue 1</td>\n",
       "      <td>Paris SG</td>\n",
       "      <td>Ligue 1</td>\n",
       "      <td>2018-2019</td>\n",
       "      <td>120000000.0</td>\n",
       "      <td>135000000</td>\n",
       "    </tr>\n",
       "    <tr>\n",
       "      <th>4212</th>\n",
       "      <td>Philippe Coutinho</td>\n",
       "      <td>Attacking Midfield</td>\n",
       "      <td>25</td>\n",
       "      <td>Liverpool</td>\n",
       "      <td>Premier League</td>\n",
       "      <td>FC Barcelona</td>\n",
       "      <td>LaLiga</td>\n",
       "      <td>2017-2018</td>\n",
       "      <td>90000000.0</td>\n",
       "      <td>125000000</td>\n",
       "    </tr>\n",
       "    <tr>\n",
       "      <th>4456</th>\n",
       "      <td>Cristiano Ronaldo</td>\n",
       "      <td>Centre-Forward</td>\n",
       "      <td>33</td>\n",
       "      <td>Real Madrid</td>\n",
       "      <td>LaLiga</td>\n",
       "      <td>Juventus</td>\n",
       "      <td>Serie A</td>\n",
       "      <td>2018-2019</td>\n",
       "      <td>100000000.0</td>\n",
       "      <td>117000000</td>\n",
       "    </tr>\n",
       "  </tbody>\n",
       "</table>\n",
       "</div>"
      ],
      "text/plain": [
       "                   Name            Position  Age     Team_from  \\\n",
       "4211             Neymar         Left Winger   25  FC Barcelona   \n",
       "4455      Kylian Mbappé        Right Winger   19        Monaco   \n",
       "4212  Philippe Coutinho  Attacking Midfield   25     Liverpool   \n",
       "4456  Cristiano Ronaldo      Centre-Forward   33   Real Madrid   \n",
       "\n",
       "         League_from       Team_to League_to     Season  Market_value  \\\n",
       "4211          LaLiga      Paris SG   Ligue 1  2017-2018   100000000.0   \n",
       "4455         Ligue 1      Paris SG   Ligue 1  2018-2019   120000000.0   \n",
       "4212  Premier League  FC Barcelona    LaLiga  2017-2018    90000000.0   \n",
       "4456          LaLiga      Juventus   Serie A  2018-2019   100000000.0   \n",
       "\n",
       "      Transfer_fee  \n",
       "4211     222000000  \n",
       "4455     135000000  \n",
       "4212     125000000  \n",
       "4456     117000000  "
      ]
     },
     "execution_count": 125,
     "metadata": {},
     "output_type": "execute_result"
    }
   ],
   "source": [
    "df.plot(kind='scatter', x='Age', y='Transfer_fee',color = 'blue', alpha=.6)\n",
    "plt.xlabel('Age')              \n",
    "plt.ylabel('Market Value')\n",
    "plt.title('Age v. Transfer Fee Scatter Plot')  \n",
    "plt.show()\n",
    "df.sort_values(by='Transfer_fee', ascending=False).head(4)"
   ]
  },
  {
   "cell_type": "code",
   "execution_count": 126,
   "metadata": {},
   "outputs": [
    {
     "data": {
      "image/png": "[encoded data removed]",
      "text/plain": [
       "<Figure size 432x288 with 1 Axes>"
      ]
     },
     "metadata": {},
     "output_type": "display_data"
    }
   ],
   "source": [
    "df.plot(kind='scatter', x='Market_value', y='Transfer_fee',color = 'blue', alpha=.6)\n",
    "plt.xlabel('Market Value')              \n",
    "plt.ylabel('Transfer Fee')\n",
    "plt.title('Transfer Fee v. Market Value Scatter Plot')  \n",
    "plt.show()"
   ]
  },
  {
   "cell_type": "markdown",
   "metadata": {},
   "source": [
    "### What trades were amazing deals vs what trades were horrible deals?\n",
    "* I'll be creating a separate column where the Transfer fee will be divided by the players Market Value and seeing which players sold for higher than their worth and which one were outright bad deals."
   ]
  },
  {
   "cell_type": "code",
   "execution_count": 127,
   "metadata": {},
   "outputs": [
    {
     "data": {
      "text/html": [
       "<div>\n",
       "<style scoped>\n",
       "    .dataframe tbody tr th:only-of-type {\n",
       "        vertical-align: middle;\n",
       "    }\n",
       "\n",
       "    .dataframe tbody tr th {\n",
       "        vertical-align: top;\n",
       "    }\n",
       "\n",
       "    .dataframe thead th {\n",
       "        text-align: right;\n",
       "    }\n",
       "</style>\n",
       "<table border=\"1\" class=\"dataframe\">\n",
       "  <thead>\n",
       "    <tr style=\"text-align: right;\">\n",
       "      <th></th>\n",
       "      <th>Name</th>\n",
       "      <th>Position</th>\n",
       "      <th>Age</th>\n",
       "      <th>Team_from</th>\n",
       "      <th>League_from</th>\n",
       "      <th>Team_to</th>\n",
       "      <th>League_to</th>\n",
       "      <th>Season</th>\n",
       "      <th>Market_value</th>\n",
       "      <th>Transfer_fee</th>\n",
       "      <th>Tranfer_value_ratio</th>\n",
       "    </tr>\n",
       "  </thead>\n",
       "  <tbody>\n",
       "    <tr>\n",
       "      <th>4026</th>\n",
       "      <td>Yuhao Zhao</td>\n",
       "      <td>Defensive Midfield</td>\n",
       "      <td>23</td>\n",
       "      <td>ZJ Greentown</td>\n",
       "      <td>League One</td>\n",
       "      <td>HB CFFC</td>\n",
       "      <td>Super League</td>\n",
       "      <td>2016-2017</td>\n",
       "      <td>100000.0</td>\n",
       "      <td>17800000</td>\n",
       "      <td>178.0</td>\n",
       "    </tr>\n",
       "    <tr>\n",
       "      <th>2347</th>\n",
       "      <td>Kyle Walker</td>\n",
       "      <td>Right-Back</td>\n",
       "      <td>19</td>\n",
       "      <td>Sheffield Utd.</td>\n",
       "      <td>Championship</td>\n",
       "      <td>Spurs</td>\n",
       "      <td>Premier League</td>\n",
       "      <td>2009-2010</td>\n",
       "      <td>50000.0</td>\n",
       "      <td>5900000</td>\n",
       "      <td>118.0</td>\n",
       "    </tr>\n",
       "    <tr>\n",
       "      <th>3840</th>\n",
       "      <td>Lu Zhang</td>\n",
       "      <td>Goalkeeper</td>\n",
       "      <td>28</td>\n",
       "      <td>Liaoning FC</td>\n",
       "      <td>Super League</td>\n",
       "      <td>TJ Quanjian</td>\n",
       "      <td>League One</td>\n",
       "      <td>2015-2016</td>\n",
       "      <td>100000.0</td>\n",
       "      <td>9800000</td>\n",
       "      <td>98.0</td>\n",
       "    </tr>\n",
       "    <tr>\n",
       "      <th>3558</th>\n",
       "      <td>Wallace</td>\n",
       "      <td>Centre-Back</td>\n",
       "      <td>19</td>\n",
       "      <td>Cruzeiro</td>\n",
       "      <td>Série A</td>\n",
       "      <td>Braga</td>\n",
       "      <td>Liga NOS</td>\n",
       "      <td>2014-2015</td>\n",
       "      <td>100000.0</td>\n",
       "      <td>9500000</td>\n",
       "      <td>95.0</td>\n",
       "    </tr>\n",
       "    <tr>\n",
       "      <th>2283</th>\n",
       "      <td>Fabian Delph</td>\n",
       "      <td>Central Midfield</td>\n",
       "      <td>19</td>\n",
       "      <td>Leeds</td>\n",
       "      <td>League One</td>\n",
       "      <td>Aston Villa</td>\n",
       "      <td>Premier League</td>\n",
       "      <td>2009-2010</td>\n",
       "      <td>100000.0</td>\n",
       "      <td>9500000</td>\n",
       "      <td>95.0</td>\n",
       "    </tr>\n",
       "    <tr>\n",
       "      <th>...</th>\n",
       "      <td>...</td>\n",
       "      <td>...</td>\n",
       "      <td>...</td>\n",
       "      <td>...</td>\n",
       "      <td>...</td>\n",
       "      <td>...</td>\n",
       "      <td>...</td>\n",
       "      <td>...</td>\n",
       "      <td>...</td>\n",
       "      <td>...</td>\n",
       "      <td>...</td>\n",
       "    </tr>\n",
       "    <tr>\n",
       "      <th>4355</th>\n",
       "      <td>Douglas Luiz</td>\n",
       "      <td>Central Midfield</td>\n",
       "      <td>19</td>\n",
       "      <td>Vasco da Gama</td>\n",
       "      <td>Série A</td>\n",
       "      <td>Man City</td>\n",
       "      <td>Premier League</td>\n",
       "      <td>2017-2018</td>\n",
       "      <td>NaN</td>\n",
       "      <td>12000000</td>\n",
       "      <td>NaN</td>\n",
       "    </tr>\n",
       "    <tr>\n",
       "      <th>4427</th>\n",
       "      <td>Jadon Sancho</td>\n",
       "      <td>Left Winger</td>\n",
       "      <td>17</td>\n",
       "      <td>Man City U18</td>\n",
       "      <td>U18 Premier League</td>\n",
       "      <td>Bor. Dortmund</td>\n",
       "      <td>1.Bundesliga</td>\n",
       "      <td>2017-2018</td>\n",
       "      <td>NaN</td>\n",
       "      <td>7840000</td>\n",
       "      <td>NaN</td>\n",
       "    </tr>\n",
       "    <tr>\n",
       "      <th>4618</th>\n",
       "      <td>Davide Bettella</td>\n",
       "      <td>Centre-Back</td>\n",
       "      <td>18</td>\n",
       "      <td>Inter</td>\n",
       "      <td>Serie A</td>\n",
       "      <td>Atalanta</td>\n",
       "      <td>Serie A</td>\n",
       "      <td>2018-2019</td>\n",
       "      <td>NaN</td>\n",
       "      <td>7000000</td>\n",
       "      <td>NaN</td>\n",
       "    </tr>\n",
       "    <tr>\n",
       "      <th>4648</th>\n",
       "      <td>William Bianda</td>\n",
       "      <td>Centre-Back</td>\n",
       "      <td>18</td>\n",
       "      <td>Lens</td>\n",
       "      <td>Ligue 2</td>\n",
       "      <td>AS Roma</td>\n",
       "      <td>Serie A</td>\n",
       "      <td>2018-2019</td>\n",
       "      <td>NaN</td>\n",
       "      <td>6000000</td>\n",
       "      <td>NaN</td>\n",
       "    </tr>\n",
       "    <tr>\n",
       "      <th>4662</th>\n",
       "      <td>Fernando</td>\n",
       "      <td>Left Winger</td>\n",
       "      <td>19</td>\n",
       "      <td>Palmeiras</td>\n",
       "      <td>Série A</td>\n",
       "      <td>Shakhtar D.</td>\n",
       "      <td>Premier Liga</td>\n",
       "      <td>2018-2019</td>\n",
       "      <td>NaN</td>\n",
       "      <td>5500000</td>\n",
       "      <td>NaN</td>\n",
       "    </tr>\n",
       "  </tbody>\n",
       "</table>\n",
       "<p>4700 rows × 11 columns</p>\n",
       "</div>"
      ],
      "text/plain": [
       "                 Name            Position  Age       Team_from  \\\n",
       "4026       Yuhao Zhao  Defensive Midfield   23    ZJ Greentown   \n",
       "2347      Kyle Walker          Right-Back   19  Sheffield Utd.   \n",
       "3840         Lu Zhang          Goalkeeper   28     Liaoning FC   \n",
       "3558          Wallace         Centre-Back   19        Cruzeiro   \n",
       "2283     Fabian Delph    Central Midfield   19           Leeds   \n",
       "...               ...                 ...  ...             ...   \n",
       "4355     Douglas Luiz    Central Midfield   19   Vasco da Gama   \n",
       "4427     Jadon Sancho         Left Winger   17    Man City U18   \n",
       "4618  Davide Bettella         Centre-Back   18           Inter   \n",
       "4648   William Bianda         Centre-Back   18            Lens   \n",
       "4662         Fernando         Left Winger   19       Palmeiras   \n",
       "\n",
       "             League_from        Team_to       League_to     Season  \\\n",
       "4026          League One        HB CFFC    Super League  2016-2017   \n",
       "2347        Championship          Spurs  Premier League  2009-2010   \n",
       "3840        Super League    TJ Quanjian      League One  2015-2016   \n",
       "3558             Série A          Braga        Liga NOS  2014-2015   \n",
       "2283          League One    Aston Villa  Premier League  2009-2010   \n",
       "...                  ...            ...             ...        ...   \n",
       "4355             Série A       Man City  Premier League  2017-2018   \n",
       "4427  U18 Premier League  Bor. Dortmund    1.Bundesliga  2017-2018   \n",
       "4618             Serie A       Atalanta         Serie A  2018-2019   \n",
       "4648             Ligue 2        AS Roma         Serie A  2018-2019   \n",
       "4662             Série A    Shakhtar D.    Premier Liga  2018-2019   \n",
       "\n",
       "      Market_value  Transfer_fee  Tranfer_value_ratio  \n",
       "4026      100000.0      17800000                178.0  \n",
       "2347       50000.0       5900000                118.0  \n",
       "3840      100000.0       9800000                 98.0  \n",
       "3558      100000.0       9500000                 95.0  \n",
       "2283      100000.0       9500000                 95.0  \n",
       "...            ...           ...                  ...  \n",
       "4355           NaN      12000000                  NaN  \n",
       "4427           NaN       7840000                  NaN  \n",
       "4618           NaN       7000000                  NaN  \n",
       "4648           NaN       6000000                  NaN  \n",
       "4662           NaN       5500000                  NaN  \n",
       "\n",
       "[4700 rows x 11 columns]"
      ]
     },
     "execution_count": 127,
     "metadata": {},
     "output_type": "execute_result"
    }
   ],
   "source": [
    "df['Tranfer_value_ratio'] = df['Transfer_fee']/df['Market_value']\n",
    "df.sort_values(by='Tranfer_value_ratio', ascending=False)"
   ]
  },
  {
   "cell_type": "markdown",
   "metadata": {},
   "source": [
    "Take into account that many players were transferred from the youth programs of different teams and therefore no monetary value was put on them, making these NaN. One player clearly seen in the tail is Jaden Sancho, arguably one of the best players from the new generation of footballers. \n",
    "\n",
    "* In the following analysis, country names appear, and the dataset website makes no mention what these mean since National teams cannot trade players for money :/"
   ]
  },
  {
   "cell_type": "code",
   "execution_count": 128,
   "metadata": {},
   "outputs": [
    {
     "data": {
      "text/plain": [
       "League_to\n",
       "League One       36.679440\n",
       " Uruguay         33.750000\n",
       "Allsvenskan      30.000000\n",
       "Primavera B      13.333333\n",
       " Saudi Arabia    12.250000\n",
       "LaLiga2           0.994077\n",
       " Korea, South     0.857143\n",
       " Mexico           0.833333\n",
       "Serie C - B       0.697500\n",
       " Croatia          0.300000\n",
       "Name: Tranfer_value_ratio, dtype: float64"
      ]
     },
     "execution_count": 128,
     "metadata": {},
     "output_type": "execute_result"
    }
   ],
   "source": [
    "value_ratios = df.loc[df['Tranfer_value_ratio'].notna()].groupby('League_to').mean()['Tranfer_value_ratio'].sort_values(ascending=False)\n",
    "value_ratios.head().append(value_ratios.tail())"
   ]
  },
  {
   "cell_type": "markdown",
   "metadata": {},
   "source": [
    "Here we can see the leagues that received the best deals and the one with the worst deals. Coming on top, League one, the 2nd tier of British Football has amazing deals.\n",
    "\n",
    "The leagues with the worst values were Serie C, the 3rd tier of Italian Football."
   ]
  },
  {
   "cell_type": "markdown",
   "metadata": {},
   "source": [
    "### What teams spent the most money? (2000-2018)"
   ]
  },
  {
   "cell_type": "code",
   "execution_count": 132,
   "metadata": {},
   "outputs": [
    {
     "data": {
      "text/plain": [
       "Team_to\n",
       "Chelsea         1820650000\n",
       "Man City        1800520000\n",
       "Real Madrid     1680650000\n",
       "FC Barcelona    1673040000\n",
       "Man Utd         1497360000\n",
       "Juventus        1470940000\n",
       "Liverpool       1412420000\n",
       "Paris SG        1274780000\n",
       "Inter           1202690000\n",
       "Spurs           1024400000\n",
       "Name: Transfer_fee, dtype: int64"
      ]
     },
     "execution_count": 132,
     "metadata": {},
     "output_type": "execute_result"
    }
   ],
   "source": [
    "spent_money = df.groupby('Team_to')['Transfer_fee'].sum().sort_values(ascending=False)\n",
    "spent_money.head(10)"
   ]
  },
  {
   "cell_type": "markdown",
   "metadata": {},
   "source": [
    "Yeah there's no surprises here over who spent the most money of all the teams. Money brings potential and powerful players to a team and that's the case for every single team in this table, for the exception of Spurs. They're just always unlucky.\n",
    "\n",
    "I think Spurs is also the only team in this list to not have won the domestic league in the span of the dataset years (2000-2018) They're last league won was in the 60s, when the Premier wasn't even called the Premier!"
   ]
  },
  {
   "cell_type": "markdown",
   "metadata": {},
   "source": [
    "### What teams generated the most money from sales? (2000-2018)"
   ]
  },
  {
   "cell_type": "code",
   "execution_count": 137,
   "metadata": {},
   "outputs": [
    {
     "data": {
      "text/plain": [
       "Team_from\n",
       "Monaco             948170000\n",
       "FC Porto           917550000\n",
       "Real Madrid        891400000\n",
       "Chelsea            839530000\n",
       "Liverpool          798410000\n",
       "Juventus           797980000\n",
       "Benfica            785750000\n",
       "Inter              785280000\n",
       "FC Barcelona       752100000\n",
       "Atlético Madrid    734400000\n",
       "Name: Transfer_fee, dtype: int64"
      ]
     },
     "execution_count": 137,
     "metadata": {},
     "output_type": "execute_result"
    }
   ],
   "source": [
    "earned_money = df.groupby('Team_from')['Transfer_fee'].sum().sort_values(ascending=False)\n",
    "earned_money.head(10)"
   ]
  },
  {
   "cell_type": "markdown",
   "metadata": {},
   "source": [
    "This is certainly interesting, I'd assume the teams making the most are also the ones who buy the most, but that's not the case.\n",
    "\n",
    "Strong teams from other leagues (France, Portugal) make up a portion of the top 10. Let's see what players the top 2 teams sold for the most money."
   ]
  },
  {
   "cell_type": "code",
   "execution_count": 143,
   "metadata": {},
   "outputs": [
    {
     "data": {
      "text/html": [
       "<div>\n",
       "<style scoped>\n",
       "    .dataframe tbody tr th:only-of-type {\n",
       "        vertical-align: middle;\n",
       "    }\n",
       "\n",
       "    .dataframe tbody tr th {\n",
       "        vertical-align: top;\n",
       "    }\n",
       "\n",
       "    .dataframe thead th {\n",
       "        text-align: right;\n",
       "    }\n",
       "</style>\n",
       "<table border=\"1\" class=\"dataframe\">\n",
       "  <thead>\n",
       "    <tr style=\"text-align: right;\">\n",
       "      <th></th>\n",
       "      <th>Name</th>\n",
       "      <th>Position</th>\n",
       "      <th>Age</th>\n",
       "      <th>Team_from</th>\n",
       "      <th>League_from</th>\n",
       "      <th>Team_to</th>\n",
       "      <th>League_to</th>\n",
       "      <th>Season</th>\n",
       "      <th>Market_value</th>\n",
       "      <th>Transfer_fee</th>\n",
       "      <th>Tranfer_value_ratio</th>\n",
       "    </tr>\n",
       "  </thead>\n",
       "  <tbody>\n",
       "    <tr>\n",
       "      <th>4455</th>\n",
       "      <td>Kylian Mbappé</td>\n",
       "      <td>Right Winger</td>\n",
       "      <td>19</td>\n",
       "      <td>Monaco</td>\n",
       "      <td>Ligue 1</td>\n",
       "      <td>Paris SG</td>\n",
       "      <td>Ligue 1</td>\n",
       "      <td>2018-2019</td>\n",
       "      <td>120000000.0</td>\n",
       "      <td>135000000</td>\n",
       "      <td>1.125000</td>\n",
       "    </tr>\n",
       "    <tr>\n",
       "      <th>3468</th>\n",
       "      <td>James Rodríguez</td>\n",
       "      <td>Attacking Midfield</td>\n",
       "      <td>23</td>\n",
       "      <td>Monaco</td>\n",
       "      <td>Ligue 1</td>\n",
       "      <td>Real Madrid</td>\n",
       "      <td>LaLiga</td>\n",
       "      <td>2014-2015</td>\n",
       "      <td>60000000.0</td>\n",
       "      <td>75000000</td>\n",
       "      <td>1.250000</td>\n",
       "    </tr>\n",
       "    <tr>\n",
       "      <th>4457</th>\n",
       "      <td>Thomas Lemar</td>\n",
       "      <td>Left Winger</td>\n",
       "      <td>22</td>\n",
       "      <td>Monaco</td>\n",
       "      <td>Ligue 1</td>\n",
       "      <td>Atlético Madrid</td>\n",
       "      <td>LaLiga</td>\n",
       "      <td>2018-2019</td>\n",
       "      <td>65000000.0</td>\n",
       "      <td>70000000</td>\n",
       "      <td>1.076923</td>\n",
       "    </tr>\n",
       "    <tr>\n",
       "      <th>3716</th>\n",
       "      <td>Anthony Martial</td>\n",
       "      <td>Left Winger</td>\n",
       "      <td>19</td>\n",
       "      <td>Monaco</td>\n",
       "      <td>Ligue 1</td>\n",
       "      <td>Man Utd</td>\n",
       "      <td>Premier League</td>\n",
       "      <td>2015-2016</td>\n",
       "      <td>8000000.0</td>\n",
       "      <td>60000000</td>\n",
       "      <td>7.500000</td>\n",
       "    </tr>\n",
       "    <tr>\n",
       "      <th>4220</th>\n",
       "      <td>Benjamin Mendy</td>\n",
       "      <td>Left-Back</td>\n",
       "      <td>23</td>\n",
       "      <td>Monaco</td>\n",
       "      <td>Ligue 1</td>\n",
       "      <td>Man City</td>\n",
       "      <td>Premier League</td>\n",
       "      <td>2017-2018</td>\n",
       "      <td>13000000.0</td>\n",
       "      <td>57500000</td>\n",
       "      <td>4.423077</td>\n",
       "    </tr>\n",
       "    <tr>\n",
       "      <th>4223</th>\n",
       "      <td>Bernardo Silva</td>\n",
       "      <td>Right Winger</td>\n",
       "      <td>22</td>\n",
       "      <td>Monaco</td>\n",
       "      <td>Ligue 1</td>\n",
       "      <td>Man City</td>\n",
       "      <td>Premier League</td>\n",
       "      <td>2017-2018</td>\n",
       "      <td>40000000.0</td>\n",
       "      <td>50000000</td>\n",
       "      <td>1.250000</td>\n",
       "    </tr>\n",
       "    <tr>\n",
       "      <th>4463</th>\n",
       "      <td>Fabinho</td>\n",
       "      <td>Defensive Midfield</td>\n",
       "      <td>24</td>\n",
       "      <td>Monaco</td>\n",
       "      <td>Ligue 1</td>\n",
       "      <td>Liverpool</td>\n",
       "      <td>Premier League</td>\n",
       "      <td>2018-2019</td>\n",
       "      <td>45000000.0</td>\n",
       "      <td>45000000</td>\n",
       "      <td>1.000000</td>\n",
       "    </tr>\n",
       "    <tr>\n",
       "      <th>3221</th>\n",
       "      <td>James Rodríguez</td>\n",
       "      <td>Attacking Midfield</td>\n",
       "      <td>21</td>\n",
       "      <td>FC Porto</td>\n",
       "      <td>Liga NOS</td>\n",
       "      <td>Monaco</td>\n",
       "      <td>Ligue 1</td>\n",
       "      <td>2013-2014</td>\n",
       "      <td>23000000.0</td>\n",
       "      <td>45000000</td>\n",
       "      <td>1.956522</td>\n",
       "    </tr>\n",
       "    <tr>\n",
       "      <th>4232</th>\n",
       "      <td>Tiemoué Bakayoko</td>\n",
       "      <td>Defensive Midfield</td>\n",
       "      <td>22</td>\n",
       "      <td>Monaco</td>\n",
       "      <td>Ligue 1</td>\n",
       "      <td>Chelsea</td>\n",
       "      <td>Premier League</td>\n",
       "      <td>2017-2018</td>\n",
       "      <td>16000000.0</td>\n",
       "      <td>40000000</td>\n",
       "      <td>2.500000</td>\n",
       "    </tr>\n",
       "    <tr>\n",
       "      <th>2722</th>\n",
       "      <td>Falcao</td>\n",
       "      <td>Centre-Forward</td>\n",
       "      <td>25</td>\n",
       "      <td>FC Porto</td>\n",
       "      <td>Liga NOS</td>\n",
       "      <td>Atlético Madrid</td>\n",
       "      <td>LaLiga</td>\n",
       "      <td>2011-2012</td>\n",
       "      <td>25000000.0</td>\n",
       "      <td>40000000</td>\n",
       "      <td>1.600000</td>\n",
       "    </tr>\n",
       "  </tbody>\n",
       "</table>\n",
       "</div>"
      ],
      "text/plain": [
       "                  Name            Position  Age Team_from League_from  \\\n",
       "4455     Kylian Mbappé        Right Winger   19    Monaco     Ligue 1   \n",
       "3468   James Rodríguez  Attacking Midfield   23    Monaco     Ligue 1   \n",
       "4457      Thomas Lemar         Left Winger   22    Monaco     Ligue 1   \n",
       "3716   Anthony Martial         Left Winger   19    Monaco     Ligue 1   \n",
       "4220    Benjamin Mendy           Left-Back   23    Monaco     Ligue 1   \n",
       "4223    Bernardo Silva        Right Winger   22    Monaco     Ligue 1   \n",
       "4463           Fabinho  Defensive Midfield   24    Monaco     Ligue 1   \n",
       "3221   James Rodríguez  Attacking Midfield   21  FC Porto    Liga NOS   \n",
       "4232  Tiemoué Bakayoko  Defensive Midfield   22    Monaco     Ligue 1   \n",
       "2722            Falcao      Centre-Forward   25  FC Porto    Liga NOS   \n",
       "\n",
       "              Team_to       League_to     Season  Market_value  Transfer_fee  \\\n",
       "4455         Paris SG         Ligue 1  2018-2019   120000000.0     135000000   \n",
       "3468      Real Madrid          LaLiga  2014-2015    60000000.0      75000000   \n",
       "4457  Atlético Madrid          LaLiga  2018-2019    65000000.0      70000000   \n",
       "3716          Man Utd  Premier League  2015-2016     8000000.0      60000000   \n",
       "4220         Man City  Premier League  2017-2018    13000000.0      57500000   \n",
       "4223         Man City  Premier League  2017-2018    40000000.0      50000000   \n",
       "4463        Liverpool  Premier League  2018-2019    45000000.0      45000000   \n",
       "3221           Monaco         Ligue 1  2013-2014    23000000.0      45000000   \n",
       "4232          Chelsea  Premier League  2017-2018    16000000.0      40000000   \n",
       "2722  Atlético Madrid          LaLiga  2011-2012    25000000.0      40000000   \n",
       "\n",
       "      Tranfer_value_ratio  \n",
       "4455             1.125000  \n",
       "3468             1.250000  \n",
       "4457             1.076923  \n",
       "3716             7.500000  \n",
       "4220             4.423077  \n",
       "4223             1.250000  \n",
       "4463             1.000000  \n",
       "3221             1.956522  \n",
       "4232             2.500000  \n",
       "2722             1.600000  "
      ]
     },
     "execution_count": 143,
     "metadata": {},
     "output_type": "execute_result"
    }
   ],
   "source": [
    "df.loc[df['Team_from'].isin(['Monaco', 'FC Porto'])].sort_values(by='Transfer_fee', ascending=False).head(10)"
   ]
  },
  {
   "cell_type": "markdown",
   "metadata": {},
   "source": [
    "### What teams SOLD the most players? (2000-2018)"
   ]
  },
  {
   "cell_type": "code",
   "execution_count": 146,
   "metadata": {},
   "outputs": [
    {
     "data": {
      "text/plain": [
       "Inter       68\n",
       "Spurs       63\n",
       "Juventus    59\n",
       "Chelsea     57\n",
       "FC Porto    56\n",
       "Name: Team_from, dtype: int64"
      ]
     },
     "execution_count": 146,
     "metadata": {},
     "output_type": "execute_result"
    }
   ],
   "source": [
    "df['Team_from'].value_counts().sort_values(ascending=False).head(5)"
   ]
  },
  {
   "cell_type": "markdown",
   "metadata": {},
   "source": [
    "No wonder Spurs haven't won anything at the Premier, they sell all their talent! "
   ]
  },
  {
   "cell_type": "markdown",
   "metadata": {},
   "source": [
    "### What teams BOUGHT the most players? (2000-2018)"
   ]
  },
  {
   "cell_type": "code",
   "execution_count": 147,
   "metadata": {},
   "outputs": [
    {
     "data": {
      "text/plain": [
       "Inter       97\n",
       "Chelsea     96\n",
       "Man City    94\n",
       "Spurs       93\n",
       "Juventus    87\n",
       "Name: Team_to, dtype: int64"
      ]
     },
     "execution_count": 147,
     "metadata": {},
     "output_type": "execute_result"
    }
   ],
   "source": [
    "df['Team_to'].value_counts().sort_values(ascending=False).head(5)"
   ]
  },
  {
   "cell_type": "markdown",
   "metadata": {},
   "source": [
    "Okay so Spurs have been selling a lot and buying even more. What's interesting is Manchester City is here even though they haven't sold many players at all! \n",
    "\n",
    "I believe this can be attributed to the amount of money sponsorships (Qatari money) injected into the team to buy better players. It definitely paid off since they are arguably the best team out there right now."
   ]
  },
  {
   "cell_type": "markdown",
   "metadata": {},
   "source": [
    "### Let's visualize the top 5 leagues by selling and buying amounts!"
   ]
  },
  {
   "cell_type": "code",
   "execution_count": 156,
   "metadata": {},
   "outputs": [
    {
     "data": {
      "text/html": [
       "<div>\n",
       "<style scoped>\n",
       "    .dataframe tbody tr th:only-of-type {\n",
       "        vertical-align: middle;\n",
       "    }\n",
       "\n",
       "    .dataframe tbody tr th {\n",
       "        vertical-align: top;\n",
       "    }\n",
       "\n",
       "    .dataframe thead th {\n",
       "        text-align: right;\n",
       "    }\n",
       "</style>\n",
       "<table border=\"1\" class=\"dataframe\">\n",
       "  <thead>\n",
       "    <tr style=\"text-align: right;\">\n",
       "      <th></th>\n",
       "      <th>Spent on Players</th>\n",
       "      <th>Sold players for</th>\n",
       "      <th>Profits</th>\n",
       "    </tr>\n",
       "  </thead>\n",
       "  <tbody>\n",
       "    <tr>\n",
       "      <th>Premier League</th>\n",
       "      <td>14695400000</td>\n",
       "      <td>7248510000</td>\n",
       "      <td>-7446890000</td>\n",
       "    </tr>\n",
       "    <tr>\n",
       "      <th>LaLiga</th>\n",
       "      <td>6680360000</td>\n",
       "      <td>5533860000</td>\n",
       "      <td>-1146500000</td>\n",
       "    </tr>\n",
       "    <tr>\n",
       "      <th>1.Bundesliga</th>\n",
       "      <td>3599645000</td>\n",
       "      <td>3062960000</td>\n",
       "      <td>-536685000</td>\n",
       "    </tr>\n",
       "    <tr>\n",
       "      <th>Serie A</th>\n",
       "      <td>7535220000</td>\n",
       "      <td>7083980000</td>\n",
       "      <td>-451240000</td>\n",
       "    </tr>\n",
       "    <tr>\n",
       "      <th>Ligue 1</th>\n",
       "      <td>3682720000</td>\n",
       "      <td>4396890000</td>\n",
       "      <td>714170000</td>\n",
       "    </tr>\n",
       "  </tbody>\n",
       "</table>\n",
       "</div>"
      ],
      "text/plain": [
       "                Spent on Players  Sold players for     Profits\n",
       "Premier League       14695400000        7248510000 -7446890000\n",
       "LaLiga                6680360000        5533860000 -1146500000\n",
       "1.Bundesliga          3599645000        3062960000  -536685000\n",
       "Serie A               7535220000        7083980000  -451240000\n",
       "Ligue 1               3682720000        4396890000   714170000"
      ]
     },
     "execution_count": 156,
     "metadata": {},
     "output_type": "execute_result"
    }
   ],
   "source": [
    "league_to = df.groupby(['League_to'])['Transfer_fee'].sum()\n",
    "league_from = df.groupby(['League_from'])['Transfer_fee'].sum()\n",
    "top_sell_league = league_from.sort_values(ascending = False).head(5)\n",
    "top_buy_league = league_to.sort_values(ascending = False).head(5)\n",
    "data={'Spent on Players':top_buy_league, 'Sold players for': top_sell_league, 'Profits':top_sell_league-top_buy_league}\n",
    "diff_table = pd.DataFrame(data) \n",
    "diff_table.sort_values(by='Profits')"
   ]
  },
  {
   "cell_type": "markdown",
   "metadata": {},
   "source": [
    "Premier League has actually spent the most in total through 18 years of selling and buying players with the French league making the most off of players sold! If I'm not wrong, French teams do have very strong youth academy programs and they like French Players, unlike ther Premier and La Liga, whose teams can be seen as a kaleidescope of countries around the world."
   ]
  },
  {
   "cell_type": "code",
   "execution_count": 162,
   "metadata": {},
   "outputs": [
    {
     "data": {
      "image/png": "[encoded data removed]",
      "text/plain": [
       "<Figure size 432x288 with 1 Axes>"
      ]
     },
     "metadata": {},
     "output_type": "display_data"
    }
   ],
   "source": [
    "teams = diff_table.reset_index()\n",
    "teams.plot(x='index',y=['Spent on Players','Sold players for'],kind='barh')\n",
    "plt.title('Summary')\n",
    "plt.ylabel('Top 5 Leagues')\n",
    "plt.xlabel('$ in million')\n",
    "plt.show()"
   ]
  },
  {
   "cell_type": "markdown",
   "metadata": {},
   "source": [
    "### Summary Statistics on the Five leagues above!\n",
    "* These are far and away the 5 most popular leagues around the world."
   ]
  },
  {
   "cell_type": "code",
   "execution_count": 194,
   "metadata": {},
   "outputs": [
    {
     "name": "stdout",
     "output_type": "stream",
     "text": [
      "Premier League \n",
      "             Age  Market_value  Transfer_fee  Tranfer_value_ratio\n",
      "mean  24.51672  9.777824e+06  1.170016e+07             2.510126\n",
      "min   16.00000  5.000000e+04  9.500000e+05             0.256000\n",
      "max   35.00000  7.000000e+07  1.050000e+08           118.000000\n",
      "Serie A \n",
      "              Age  Market_value  Transfer_fee  Tranfer_value_ratio\n",
      "mean  24.347767  8.858748e+06  1.019651e+07             2.001615\n",
      "min   16.000000  5.000000e+04  9.000000e+05             0.160000\n",
      "max   35.000000  1.000000e+08  1.170000e+08            60.000000\n",
      "LaLiga \n",
      "             Age  Market_value  Transfer_fee  Tranfer_value_ratio\n",
      "mean  24.39619  1.209199e+07  1.272450e+07             1.341230\n",
      "min   17.00000  6.000000e+05  9.500000e+05             0.229167\n",
      "max   34.00000  9.000000e+07  1.250000e+08            11.666667\n",
      "Ligue 1 \n",
      "              Age  Market_value  Transfer_fee  Tranfer_value_ratio\n",
      "mean  23.889169  9.033272e+06  9.276373e+06             1.812901\n",
      "min   16.000000  1.500000e+05  1.000000e+06             0.320000\n",
      "max   35.000000  1.200000e+08  2.220000e+08            53.333333\n",
      "1.Bundesliga \n",
      "              Age  Market_value  Transfer_fee  Tranfer_value_ratio\n",
      "mean  23.725118  9.113898e+06  8.529964e+06              1.58281\n",
      "min   17.000000  2.500000e+05  8.250000e+05              0.27500\n",
      "max   35.000000  4.500000e+07  4.300000e+07             60.80000\n"
     ]
    }
   ],
   "source": [
    "for i in diff_table.index:\n",
    "    print(i, '\\n ',df.loc[df['League_to'] == i].describe().loc[['mean', 'min', 'max']])"
   ]
  }
 ],
 "metadata": {
  "kernelspec": {
   "display_name": "Python 3",
   "language": "python",
   "name": "python3"
  },
  "language_info": {
   "codemirror_mode": {
    "name": "ipython",
    "version": 3
   },
   "file_extension": ".py",
   "mimetype": "text/x-python",
   "name": "python",
   "nbconvert_exporter": "python",
   "pygments_lexer": "ipython3",
   "version": "3.8.3"
  }
 },
 "nbformat": 4,
 "nbformat_minor": 4
}
