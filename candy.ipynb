{
 "cells": [
  {
   "cell_type": "markdown",
   "metadata": {},
   "source": [
    "# Table of Contents\n",
    "\n",
    "* [first lambda](#first-lambda)\n",
    "* [second lambda](#second-lambda)"
   ]
  },
  {
   "cell_type": "code",
   "execution_count": null,
   "metadata": {},
   "outputs": [],
   "source": [
    "import tabletools as tt\n",
    "t = tt.read_csv('candy-data.csv')\n",
    "print(t.tail(4))"
   ]
  },
  {
   "cell_type": "code",
   "execution_count": null,
   "metadata": {},
   "outputs": [],
   "source": [
    "chocolates = t['chocolate']\n",
    "chocolate = [i == 1.0 for i in chocolates]\n",
    "print(t[chocolate][['chocolate', 'peanutyalmondy','winpercent']])"
   ]
  },
  {
   "cell_type": "markdown",
   "metadata": {},
   "source": [
    "Here are all the candies that are chocolate, including their name, penauty/almondy, and win percentage"
   ]
  },
  {
   "cell_type": "code",
   "execution_count": null,
   "metadata": {},
   "outputs": [],
   "source": [
    "peanuts = t['peanutyalmondy']\n",
    "peanut = [i == 1.0 for i in peanuts]\n",
    "chocopeanut = [peanut[i] and chocolate[i] for i in range(len(peanut))]\n",
    "chocopeanuttable = t[chocopeanut][['chocolate', 'peanutyalmondy','winpercent']]\n",
    "print(chocopeanuttable)"
   ]
  },
  {
   "cell_type": "markdown",
   "metadata": {},
   "source": [
    "All candies both chocolate and peanutyalmond are above"
   ]
  },
  {
   "cell_type": "code",
   "execution_count": null,
   "metadata": {},
   "outputs": [],
   "source": [
    "lessthan = chocopeanuttable['winpercent'] < 50\n",
    "print(chocopeanuttable[lessthan])"
   ]
  },
  {
   "cell_type": "markdown",
   "metadata": {},
   "source": [
    "No chocolate and peanutyalmondy candy had less than 50% win percentage. "
   ]
  },
  {
   "cell_type": "markdown",
   "metadata": {},
   "source": [
    "## first lambda"
   ]
  },
  {
   "cell_type": "code",
   "execution_count": null,
   "metadata": {},
   "outputs": [],
   "source": [
    "reese = list(map(lambda name: ('Reese' in name), chocopeanuttable.index))\n",
    "print(chocopeanuttable[reese])"
   ]
  },
  {
   "cell_type": "markdown",
   "metadata": {},
   "source": [
    "All almondypeanuty and chocolate candies with reese in the name"
   ]
  },
  {
   "cell_type": "markdown",
   "metadata": {},
   "source": [
    "## second lambda"
   ]
  },
  {
   "cell_type": "code",
   "execution_count": null,
   "metadata": {},
   "outputs": [],
   "source": [
    "lessthan = list(map(lambda name: (len(name)<10), chocopeanuttable.index))\n",
    "print(chocopeanuttable[lessthan])"
   ]
  },
  {
   "cell_type": "markdown",
   "metadata": {},
   "source": [
    "All candy that is both chocolate and penautyalmondy with labels of less than 10 characters"
   ]
  }
 ],
 "metadata": {
  "kernelspec": {
   "display_name": "Python 3",
   "language": "python",
   "name": "python3"
  },
  "language_info": {
   "codemirror_mode": {
    "name": "ipython",
    "version": 3
   },
   "file_extension": ".py",
   "mimetype": "text/x-python",
   "name": "python",
   "nbconvert_exporter": "python",
   "pygments_lexer": "ipython3",
   "version": "3.8.3"
  }
 },
 "nbformat": 4,
 "nbformat_minor": 4
}
