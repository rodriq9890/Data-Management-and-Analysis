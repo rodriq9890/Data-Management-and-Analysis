{
 "cells": [
  {
   "cell_type": "markdown",
   "metadata": {},
   "source": [
    "**Household Tales by Brothers Grimm**\n",
    "\n",
    "Jacob Grimm and Wilhelm Grimm\n",
    "\n",
    "https://www.gutenberg.org/ebooks/5314\n",
    "\n",
    "Public domain in the USA.\n",
    "\n",
    "UTF-8: https://www.gutenberg.org/files/5314/5314-0.txt\n",
    "\n",
    "\n",
    "\n",
    "\n",
    "**The Great Gatsby**\n",
    "\n",
    "F. Scott Fitzgerald\n",
    "\n",
    "https://www.gutenberg.org/ebooks/64317\n",
    "\n",
    "Public domain in the USA.\n",
    "\n",
    "UTF-8: https://www.gutenberg.org/files/5314/5314-0.txt"
   ]
  },
  {
   "cell_type": "markdown",
   "metadata": {},
   "source": [
    "Regarding **Household Tales by Brothers Grimm**:\n",
    "\n",
    "What is the most mentioned animal in the tales?\n",
    "\n",
    "Regarding **The Great Gatsby**\n",
    "\n",
    "What character is the most mentioned in the book?"
   ]
  },
  {
   "cell_type": "markdown",
   "metadata": {},
   "source": [
    "What I'll be doing is making a dictionary of every word in lowercase, this gets rid of different uses of a word, like Horse vs. horse. These actually happen a lot of times, for example, Mouse is used twice and mouse 17 times.\n",
    "\n",
    "I also found a gitbhub .txt file that contains most animals we can all think of and I'll be using that to compare the book's counts to. I'll upload the .txt file to data.\n"
   ]
  },
  {
   "cell_type": "code",
   "execution_count": 1,
   "metadata": {},
   "outputs": [
    {
     "name": "stdout",
     "output_type": "stream",
     "text": [
      "BIRD was mentioned a total of 133\n",
      "HORSE was mentioned a total of 118\n",
      "FOX was mentioned a total of 113\n",
      "BEAR was mentioned a total of 84\n",
      "WOLF was mentioned a total of 83\n",
      "HARE was mentioned a total of 72\n",
      "CAT was mentioned a total of 55\n",
      "LION was mentioned a total of 48\n",
      "HEDGEHOG was mentioned a total of 46\n",
      "DOG was mentioned a total of 41\n"
     ]
    }
   ],
   "source": [
    "with open('data/5314-0.txt', encoding=\"utf8\") as f:\n",
    "    text = f.read().lower()\n",
    "animals = []\n",
    "with open('data/animals.txt', encoding='utf-8') as a:\n",
    "    for animal in a.readlines():\n",
    "        animals.append(animal.lower()[:-1])\n",
    "counts = dict()\n",
    "for word in text.split():\n",
    "        if word in counts:\n",
    "            counts[word] += 1\n",
    "        else:\n",
    "            counts[word] = 1\n",
    "n = {k: counts[k] for k in counts.keys() & set(animals)}\n",
    "SortedAnimals = dict(sorted(n.items(), key=lambda item: item[1], reverse=True))\n",
    "TopAnimals = list(SortedAnimals.keys())[:10]\n",
    "for i in TopAnimals:\n",
    "    print(i.upper(), \"was mentioned a total of\", SortedAnimals.get(i)), \"times!\""
   ]
  },
  {
   "cell_type": "markdown",
   "metadata": {},
   "source": [
    "Great! We have found what we were looking for. The bird is the most mentioned animal in the Household tales by the Brothers Grimm, followed by the Horse and the fox. I have printed the top 10 animals mentioned "
   ]
  },
  {
   "cell_type": "code",
   "execution_count": 2,
   "metadata": {},
   "outputs": [
    {
     "name": "stdout",
     "output_type": "stream",
     "text": [
      "Tom was mentioned a total of 115 times\n",
      "Jay was mentioned a total of 9 times\n",
      "Gatsby was mentioned a total of 106 times\n",
      "Daisy was mentioned a total of 99 times\n",
      "Nick was mentioned a total of 5 times\n",
      "Jordan was mentioned a total of 46 times\n",
      "Myrtle was mentioned a total of 14 times\n",
      "George was mentioned a total of 5 times\n",
      "Owl Eyes was mentioned a total of None times\n",
      "Klipspringer was mentioned a total of 3 times\n",
      "Meyer was mentioned a total of 5 times\n",
      "Buchanan was mentioned a total of 13 times\n"
     ]
    }
   ],
   "source": [
    "with open('data/64317-0.txt', encoding=\"utf8\") as f:\n",
    "    text = f.read()\n",
    "characters = ['Tom', 'Jay', 'Gatsby', 'Daisy', 'Nick', 'Jordan', 'Myrtle', 'George', 'Owl Eyes', 'Klipspringer', 'Meyer', 'Buchanan']\n",
    "counts = dict()\n",
    "for word in text.split():\n",
    "        if word in counts:\n",
    "            counts[word] += 1\n",
    "        else:\n",
    "            counts[word] = 1\n",
    "n = {k: counts[k] for k in counts.keys() & set(characters)}\n",
    "for i in characters:\n",
    "    print(i, 'was mentioned a total of', n.get(i), 'times')"
   ]
  },
  {
   "cell_type": "markdown",
   "metadata": {},
   "source": [
    "I really expected Gatsby to be the most mentioned character in the book, and even combining the amount of times Gatsby and Jay are said separately, they only equal Tom, with Tom probably growing in mentions if you count how many times Buchanan is also mentioned. \n",
    "Tom Buchanan is the most mentioned Character, followed by Jay Gatsby, and then Tom's wife, Daisy Buchanan"
   ]
  }
 ],
 "metadata": {
  "kernelspec": {
   "display_name": "Python 3",
   "language": "python",
   "name": "python3"
  },
  "language_info": {
   "codemirror_mode": {
    "name": "ipython",
    "version": 3
   },
   "file_extension": ".py",
   "mimetype": "text/x-python",
   "name": "python",
   "nbconvert_exporter": "python",
   "pygments_lexer": "ipython3",
   "version": "3.8.5"
  }
 },
 "nbformat": 4,
 "nbformat_minor": 4
}
